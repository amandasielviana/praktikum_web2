{
 "cells": [
  {
   "cell_type": "code",
   "execution_count": 7,
   "metadata": {},
   "outputs": [
    {
     "name": "stdout",
     "output_type": "stream",
     "text": [
      "AGGAXSMBARJSRQDESRHPUEAQJOFIJEXNXQEVPWLXESDIMOWXENRDWWSLRHLOBBEWZJRNZJPM\n"
     ]
    }
   ],
   "source": [
    "def autokey_decrypt(ciphertext, key):\n",
    "    plaintext = []\n",
    "    key = [ord(k) - ord('A') for k in key.upper()]\n",
    "    for i, c in enumerate(ciphertext.upper()):\n",
    "        c_val = ord(c) - ord('A')\n",
    "        if i < len(key):\n",
    "            p_val = (c_val - key[i]) % 26\n",
    "        else:\n",
    "            p_val = (c_val - plaintext[i - len(key)]) % 26\n",
    "        plaintext.append(p_val)\n",
    "    return ''.join([chr(p + ord('A')) for p in plaintext])\n",
    "\n",
    "print(autokey_decrypt(\"MANAJEMENRISIKOMERUPAKANBAGIANPENTINGDARISTRATEGIKEAMANANSISTEMINFORMASI\", \"MUHAMMADNAZARULIMAN\"))"
   ]
  },
  {
   "cell_type": "code",
   "execution_count": null,
   "metadata": {},
   "outputs": [],
   "source": []
  }
 ],
 "metadata": {
  "kernelspec": {
   "display_name": "Python 3",
   "language": "python",
   "name": "python3"
  },
  "language_info": {
   "codemirror_mode": {
    "name": "ipython",
    "version": 3
   },
   "file_extension": ".py",
   "mimetype": "text/x-python",
   "name": "python",
   "nbconvert_exporter": "python",
   "pygments_lexer": "ipython3",
   "version": "3.11.2"
  }
 },
 "nbformat": 4,
 "nbformat_minor": 2
}
